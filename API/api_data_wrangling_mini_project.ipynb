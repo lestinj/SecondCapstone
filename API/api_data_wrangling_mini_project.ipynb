{
 "cells": [
  {
   "cell_type": "markdown",
   "metadata": {},
   "source": [
    "This exercise will require you to pull some data from the Qunadl API. Qaundl is currently the most widely used aggregator of financial market data."
   ]
  },
  {
   "cell_type": "markdown",
   "metadata": {},
   "source": [
    "As a first step, you will need to register a free account on the http://www.quandl.com website."
   ]
  },
  {
   "cell_type": "markdown",
   "metadata": {},
   "source": [
    "After you register, you will be provided with a unique API key, that you should store:"
   ]
  },
  {
   "cell_type": "code",
   "execution_count": 21,
   "metadata": {},
   "outputs": [],
   "source": [
    "# Store the API key as a string - according to PEP8, constants are always named in all upper case\n",
    "API_KEY = '1vz9YsxovBMVzbhFmakL'"
   ]
  },
  {
   "cell_type": "markdown",
   "metadata": {},
   "source": [
    "Qaundl has a large number of data sources, but, unfortunately, most of them require a Premium subscription. Still, there are also a good number of free datasets."
   ]
  },
  {
   "cell_type": "markdown",
   "metadata": {},
   "source": [
    "For this mini project, we will focus on equities data from the Frankfurt Stock Exhange (FSE), which is available for free. We'll try and analyze the stock prices of a company called Carl Zeiss Meditec, which manufactures tools for eye examinations, as well as medical lasers for laser eye surgery: https://www.zeiss.com/meditec/int/home.html. The company is listed under the stock ticker AFX_X."
   ]
  },
  {
   "cell_type": "markdown",
   "metadata": {},
   "source": [
    "You can find the detailed Quandl API instructions here: https://docs.quandl.com/docs/time-series"
   ]
  },
  {
   "cell_type": "markdown",
   "metadata": {},
   "source": [
    "While there is a dedicated Python package for connecting to the Quandl API, we would prefer that you use the *requests* package, which can be easily downloaded using *pip* or *conda*. You can find the documentation for the package here: http://docs.python-requests.org/en/master/ "
   ]
  },
  {
   "cell_type": "markdown",
   "metadata": {},
   "source": [
    "Finally, apart from the *requests* package, you are encouraged to not use any third party Python packages, such as *pandas*, and instead focus on what's available in the Python Standard Library (the *collections* module might come in handy: https://pymotw.com/3/collections/ ).\n",
    "Also, since you won't have access to DataFrames, you are encouraged to us Python's native data structures - preferably dictionaries, though some questions can also be answered using lists.\n",
    "You can read more on these data structures here: https://docs.python.org/3/tutorial/datastructures.html"
   ]
  },
  {
   "cell_type": "markdown",
   "metadata": {},
   "source": [
    "Keep in mind that the JSON responses you will be getting from the API map almost one-to-one to Python's dictionaries. Unfortunately, they can be very nested, so make sure you read up on indexing dictionaries in the documentation provided above."
   ]
  },
  {
   "cell_type": "code",
   "execution_count": 22,
   "metadata": {},
   "outputs": [],
   "source": [
    "# First, import the relevant modules\n",
    "import requests\n",
    "import collections"
   ]
  },
  {
   "cell_type": "code",
   "execution_count": 23,
   "metadata": {},
   "outputs": [],
   "source": [
    "# Now, call the Quandl API and pull out a small sample of the data (only one day) to get a glimpse\n",
    "# into the JSON structure that will be returned\n",
    "# payload = {'key1': 'value1', 'key2': 'value2'}\n",
    "r = requests.get('https://www.quandl.com/api/v3/datasets/FSE/AFX_X/data.json?api_key='+API_KEY)"
   ]
  },
  {
   "cell_type": "code",
   "execution_count": 24,
   "metadata": {},
   "outputs": [
    {
     "data": {
      "text/plain": [
       "[['2020-12-01',\n",
       "  112.2,\n",
       "  112.2,\n",
       "  111.5,\n",
       "  112.0,\n",
       "  None,\n",
       "  51.0,\n",
       "  5703.0,\n",
       "  None,\n",
       "  None,\n",
       "  None],\n",
       " ['2020-11-30',\n",
       "  111.0,\n",
       "  113.6,\n",
       "  111.0,\n",
       "  112.1,\n",
       "  None,\n",
       "  315.0,\n",
       "  35111.5,\n",
       "  None,\n",
       "  None,\n",
       "  None],\n",
       " ['2020-11-27',\n",
       "  111.0,\n",
       "  111.5,\n",
       "  109.5,\n",
       "  111.2,\n",
       "  None,\n",
       "  155.0,\n",
       "  17168.5,\n",
       "  None,\n",
       "  None,\n",
       "  None],\n",
       " ['2020-11-26',\n",
       "  111.3,\n",
       "  112.0,\n",
       "  110.5,\n",
       "  111.6,\n",
       "  None,\n",
       "  254.0,\n",
       "  28367.5,\n",
       "  None,\n",
       "  None,\n",
       "  None],\n",
       " ['2020-11-25',\n",
       "  111.4,\n",
       "  111.4,\n",
       "  110.1,\n",
       "  110.1,\n",
       "  None,\n",
       "  294.0,\n",
       "  32435.8,\n",
       "  None,\n",
       "  None,\n",
       "  None],\n",
       " ['2020-11-24',\n",
       "  116.1,\n",
       "  116.8,\n",
       "  110.5,\n",
       "  113.5,\n",
       "  None,\n",
       "  3184.0,\n",
       "  361404.4,\n",
       "  None,\n",
       "  None,\n",
       "  None],\n",
       " ['2020-11-23',\n",
       "  118.0,\n",
       "  118.8,\n",
       "  116.3,\n",
       "  116.3,\n",
       "  None,\n",
       "  1590.0,\n",
       "  187525.0,\n",
       "  None,\n",
       "  None,\n",
       "  None],\n",
       " ['2020-11-20',\n",
       "  116.5,\n",
       "  118.0,\n",
       "  116.5,\n",
       "  117.5,\n",
       "  None,\n",
       "  295.0,\n",
       "  34736.0,\n",
       "  None,\n",
       "  None,\n",
       "  None],\n",
       " ['2020-11-19', 115.6, 115.6, 115.6, 115.6, None, 0.0, 0.0, None, None, None],\n",
       " ['2020-11-18',\n",
       "  115.8,\n",
       "  115.8,\n",
       "  115.0,\n",
       "  115.0,\n",
       "  None,\n",
       "  25.0,\n",
       "  2875.0,\n",
       "  None,\n",
       "  None,\n",
       "  None]]"
      ]
     },
     "execution_count": 24,
     "metadata": {},
     "output_type": "execute_result"
    }
   ],
   "source": [
    "# Inspect the JSON structure of the object you created, and take note of how nested it is,\n",
    "# as well as the overall structure\n",
    "#prices = {}\n",
    "r.json()['dataset_data']['data'][0:10]\n",
    "#print(prices[data])"
   ]
  },
  {
   "cell_type": "markdown",
   "metadata": {},
   "source": [
    "These are your tasks for this mini project:\n",
    "\n",
    "1. Collect data from the Franfurt Stock Exchange, for the ticker AFX_X, for the whole year 2017 (keep in mind that the date format is YYYY-MM-DD).\n",
    "2. Convert the returned JSON object into a Python dictionary.\n",
    "3. Calculate what the highest and lowest opening prices were for the stock in this period.\n",
    "4. What was the largest change in any one day (based on High and Low price)?\n",
    "5. What was the largest change between any two days (based on Closing Price)?\n",
    "6. What was the average daily trading volume during this year?\n",
    "7. (Optional) What was the median trading volume during this year. (Note: you may need to implement your own function for calculating the median.)"
   ]
  },
  {
   "cell_type": "code",
   "execution_count": null,
   "metadata": {},
   "outputs": [],
   "source": []
  }
 ],
 "metadata": {
  "kernelspec": {
   "display_name": "Python 3",
   "language": "python",
   "name": "python3"
  },
  "language_info": {
   "codemirror_mode": {
    "name": "ipython",
    "version": 3
   },
   "file_extension": ".py",
   "mimetype": "text/x-python",
   "name": "python",
   "nbconvert_exporter": "python",
   "pygments_lexer": "ipython3",
   "version": "3.7.3"
  }
 },
 "nbformat": 4,
 "nbformat_minor": 2
}
