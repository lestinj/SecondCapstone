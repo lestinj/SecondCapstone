{
 "cells": [
  {
   "cell_type": "code",
   "execution_count": 30,
   "id": "2b75f2e4",
   "metadata": {},
   "outputs": [
    {
     "name": "stdout",
     "output_type": "stream",
     "text": [
      "AACG_20210101_20211008.txt\r\n",
      "AACG_20210101_20211008.zip\r\n",
      "ISO10383_MIC.csv\r\n",
      "ISO10383_MIC.xls\r\n",
      "NASDAQ Data.ipynb\r\n",
      "NASDAQ-SYMBOLS.txt\r\n",
      "depth_in_dollars_by_individual_security_2013.zip\r\n",
      "tickers-first10.json\r\n",
      "tickers=allnasdaq.json\r\n"
     ]
    }
   ],
   "source": [
    "%ls\n"
   ]
  },
  {
   "cell_type": "code",
   "execution_count": 4,
   "id": "fe4f0f56",
   "metadata": {},
   "outputs": [],
   "source": [
    "import numpy as np\n",
    "import pandas as pd\n",
    "import os\n",
    "import json\n",
    "# to handle  data retrieval\n",
    "# import urllib3\n",
    "# from urllib3 import request\n",
    "import requests\n",
    "import json\n",
    "\n",
    "# to handle certificate verification\n",
    "#import certifi\n",
    "# to manage json data\n",
    "#import json\n",
    "# for pandas dataframes\n",
    "#import pandas as pd\n",
    "# uncomment below if installation needed (not necessary in Colab)\n",
    "#!pip install certifi"
   ]
  },
  {
   "cell_type": "code",
   "execution_count": 32,
   "id": "2bdce794",
   "metadata": {},
   "outputs": [],
   "source": [
    "symbols = pd.read_csv('NASDAQ-SYMBOLS.txt', '\\t')\n"
   ]
  },
  {
   "cell_type": "code",
   "execution_count": 33,
   "id": "4453007a",
   "metadata": {},
   "outputs": [
    {
     "data": {
      "text/html": [
       "<div>\n",
       "<style scoped>\n",
       "    .dataframe tbody tr th:only-of-type {\n",
       "        vertical-align: middle;\n",
       "    }\n",
       "\n",
       "    .dataframe tbody tr th {\n",
       "        vertical-align: top;\n",
       "    }\n",
       "\n",
       "    .dataframe thead th {\n",
       "        text-align: right;\n",
       "    }\n",
       "</style>\n",
       "<table border=\"1\" class=\"dataframe\">\n",
       "  <thead>\n",
       "    <tr style=\"text-align: right;\">\n",
       "      <th></th>\n",
       "      <th>Symbol</th>\n",
       "      <th>Description</th>\n",
       "    </tr>\n",
       "  </thead>\n",
       "  <tbody>\n",
       "    <tr>\n",
       "      <th>0</th>\n",
       "      <td>AACG</td>\n",
       "      <td>Ata Creativity Global ADR</td>\n",
       "    </tr>\n",
       "    <tr>\n",
       "      <th>1</th>\n",
       "      <td>AACIU</td>\n",
       "      <td>Armada Acquisition Corp I</td>\n",
       "    </tr>\n",
       "    <tr>\n",
       "      <th>2</th>\n",
       "      <td>AADI</td>\n",
       "      <td>Aadi Biosciences Inc</td>\n",
       "    </tr>\n",
       "    <tr>\n",
       "      <th>3</th>\n",
       "      <td>AADR</td>\n",
       "      <td>Advisorshares Dorsey Wright ETF</td>\n",
       "    </tr>\n",
       "    <tr>\n",
       "      <th>4</th>\n",
       "      <td>AAL</td>\n",
       "      <td>American Airlines Gp</td>\n",
       "    </tr>\n",
       "    <tr>\n",
       "      <th>5</th>\n",
       "      <td>AAME</td>\n",
       "      <td>Atlantic Amer Cp</td>\n",
       "    </tr>\n",
       "    <tr>\n",
       "      <th>6</th>\n",
       "      <td>AAOI</td>\n",
       "      <td>Applied Optoelect</td>\n",
       "    </tr>\n",
       "    <tr>\n",
       "      <th>7</th>\n",
       "      <td>AAON</td>\n",
       "      <td>Aaon Inc</td>\n",
       "    </tr>\n",
       "    <tr>\n",
       "      <th>8</th>\n",
       "      <td>AAPL</td>\n",
       "      <td>Apple Inc</td>\n",
       "    </tr>\n",
       "    <tr>\n",
       "      <th>9</th>\n",
       "      <td>AATC</td>\n",
       "      <td>Autoscope Technologies Corp</td>\n",
       "    </tr>\n",
       "  </tbody>\n",
       "</table>\n",
       "</div>"
      ],
      "text/plain": [
       "  Symbol                      Description\n",
       "0   AACG        Ata Creativity Global ADR\n",
       "1  AACIU        Armada Acquisition Corp I\n",
       "2   AADI             Aadi Biosciences Inc\n",
       "3   AADR  Advisorshares Dorsey Wright ETF\n",
       "4    AAL             American Airlines Gp\n",
       "5   AAME                 Atlantic Amer Cp\n",
       "6   AAOI                Applied Optoelect\n",
       "7   AAON                         Aaon Inc\n",
       "8   AAPL                        Apple Inc\n",
       "9   AATC      Autoscope Technologies Corp"
      ]
     },
     "execution_count": 33,
     "metadata": {},
     "output_type": "execute_result"
    }
   ],
   "source": [
    "symbols.head(10)"
   ]
  },
  {
   "cell_type": "code",
   "execution_count": 35,
   "id": "3735bda4",
   "metadata": {},
   "outputs": [
    {
     "data": {
      "text/plain": [
       "Symbol    AACG\n",
       "Name: 0, dtype: object"
      ]
     },
     "execution_count": 35,
     "metadata": {},
     "output_type": "execute_result"
    }
   ],
   "source": [
    "\n",
    "syms_df = pd.DataFrame(data=symbols, columns=['Symbol'])\n",
    "syms_df.loc[0]"
   ]
  },
  {
   "cell_type": "code",
   "execution_count": 49,
   "id": "828a35f3",
   "metadata": {},
   "outputs": [
    {
     "ename": "AttributeError",
     "evalue": "'Series' object has no attribute 'read'",
     "output_type": "error",
     "traceback": [
      "\u001b[0;31m---------------------------------------------------------------------------\u001b[0m",
      "\u001b[0;31mAttributeError\u001b[0m                            Traceback (most recent call last)",
      "\u001b[0;32m<ipython-input-49-eca8aa8f13fd>\u001b[0m in \u001b[0;36m<module>\u001b[0;34m\u001b[0m\n\u001b[1;32m      4\u001b[0m \u001b[0mdf2\u001b[0m \u001b[0;34m=\u001b[0m \u001b[0mpd\u001b[0m\u001b[0;34m.\u001b[0m\u001b[0mDataFrame\u001b[0m\u001b[0;34m(\u001b[0m\u001b[0;34m)\u001b[0m\u001b[0;34m\u001b[0m\u001b[0;34m\u001b[0m\u001b[0m\n\u001b[1;32m      5\u001b[0m \u001b[0;32mfor\u001b[0m \u001b[0mi\u001b[0m \u001b[0;32min\u001b[0m \u001b[0mrange\u001b[0m\u001b[0;34m(\u001b[0m\u001b[0;36m168\u001b[0m\u001b[0;34m)\u001b[0m\u001b[0;34m:\u001b[0m\u001b[0;34m\u001b[0m\u001b[0;34m\u001b[0m\u001b[0m\n\u001b[0;32m----> 6\u001b[0;31m     \u001b[0mdf2\u001b[0m\u001b[0;34m.\u001b[0m\u001b[0mappend\u001b[0m\u001b[0;34m(\u001b[0m\u001b[0mjson\u001b[0m\u001b[0;34m.\u001b[0m\u001b[0mload\u001b[0m\u001b[0;34m(\u001b[0m\u001b[0mdf\u001b[0m\u001b[0;34m[\u001b[0m\u001b[0;34m:\u001b[0m\u001b[0mi\u001b[0m\u001b[0;34m]\u001b[0m\u001b[0;34m[\u001b[0m\u001b[0;34m'results'\u001b[0m\u001b[0;34m]\u001b[0m\u001b[0;34m)\u001b[0m\u001b[0;34m)\u001b[0m\u001b[0;34m\u001b[0m\u001b[0;34m\u001b[0m\u001b[0m\n\u001b[0m\u001b[1;32m      7\u001b[0m \u001b[0;34m\u001b[0m\u001b[0m\n\u001b[1;32m      8\u001b[0m \u001b[0mdf2\u001b[0m\u001b[0;34m\u001b[0m\u001b[0;34m\u001b[0m\u001b[0m\n",
      "\u001b[0;32m~/opt/anaconda3/lib/python3.8/json/__init__.py\u001b[0m in \u001b[0;36mload\u001b[0;34m(fp, cls, object_hook, parse_float, parse_int, parse_constant, object_pairs_hook, **kw)\u001b[0m\n\u001b[1;32m    291\u001b[0m     \u001b[0mkwarg\u001b[0m\u001b[0;34m;\u001b[0m \u001b[0motherwise\u001b[0m\u001b[0;31m \u001b[0m\u001b[0;31m`\u001b[0m\u001b[0;31m`\u001b[0m\u001b[0mJSONDecoder\u001b[0m\u001b[0;31m`\u001b[0m\u001b[0;31m`\u001b[0m \u001b[0;32mis\u001b[0m \u001b[0mused\u001b[0m\u001b[0;34m.\u001b[0m\u001b[0;34m\u001b[0m\u001b[0;34m\u001b[0m\u001b[0m\n\u001b[1;32m    292\u001b[0m     \"\"\"\n\u001b[0;32m--> 293\u001b[0;31m     return loads(fp.read(),\n\u001b[0m\u001b[1;32m    294\u001b[0m         \u001b[0mcls\u001b[0m\u001b[0;34m=\u001b[0m\u001b[0mcls\u001b[0m\u001b[0;34m,\u001b[0m \u001b[0mobject_hook\u001b[0m\u001b[0;34m=\u001b[0m\u001b[0mobject_hook\u001b[0m\u001b[0;34m,\u001b[0m\u001b[0;34m\u001b[0m\u001b[0;34m\u001b[0m\u001b[0m\n\u001b[1;32m    295\u001b[0m         \u001b[0mparse_float\u001b[0m\u001b[0;34m=\u001b[0m\u001b[0mparse_float\u001b[0m\u001b[0;34m,\u001b[0m \u001b[0mparse_int\u001b[0m\u001b[0;34m=\u001b[0m\u001b[0mparse_int\u001b[0m\u001b[0;34m,\u001b[0m\u001b[0;34m\u001b[0m\u001b[0;34m\u001b[0m\u001b[0m\n",
      "\u001b[0;32m~/opt/anaconda3/lib/python3.8/site-packages/pandas/core/generic.py\u001b[0m in \u001b[0;36m__getattr__\u001b[0;34m(self, name)\u001b[0m\n\u001b[1;32m   5463\u001b[0m             \u001b[0;32mif\u001b[0m \u001b[0mself\u001b[0m\u001b[0;34m.\u001b[0m\u001b[0m_info_axis\u001b[0m\u001b[0;34m.\u001b[0m\u001b[0m_can_hold_identifiers_and_holds_name\u001b[0m\u001b[0;34m(\u001b[0m\u001b[0mname\u001b[0m\u001b[0;34m)\u001b[0m\u001b[0;34m:\u001b[0m\u001b[0;34m\u001b[0m\u001b[0;34m\u001b[0m\u001b[0m\n\u001b[1;32m   5464\u001b[0m                 \u001b[0;32mreturn\u001b[0m \u001b[0mself\u001b[0m\u001b[0;34m[\u001b[0m\u001b[0mname\u001b[0m\u001b[0;34m]\u001b[0m\u001b[0;34m\u001b[0m\u001b[0;34m\u001b[0m\u001b[0m\n\u001b[0;32m-> 5465\u001b[0;31m             \u001b[0;32mreturn\u001b[0m \u001b[0mobject\u001b[0m\u001b[0;34m.\u001b[0m\u001b[0m__getattribute__\u001b[0m\u001b[0;34m(\u001b[0m\u001b[0mself\u001b[0m\u001b[0;34m,\u001b[0m \u001b[0mname\u001b[0m\u001b[0;34m)\u001b[0m\u001b[0;34m\u001b[0m\u001b[0;34m\u001b[0m\u001b[0m\n\u001b[0m\u001b[1;32m   5466\u001b[0m \u001b[0;34m\u001b[0m\u001b[0m\n\u001b[1;32m   5467\u001b[0m     \u001b[0;32mdef\u001b[0m \u001b[0m__setattr__\u001b[0m\u001b[0;34m(\u001b[0m\u001b[0mself\u001b[0m\u001b[0;34m,\u001b[0m \u001b[0mname\u001b[0m\u001b[0;34m:\u001b[0m \u001b[0mstr\u001b[0m\u001b[0;34m,\u001b[0m \u001b[0mvalue\u001b[0m\u001b[0;34m)\u001b[0m \u001b[0;34m->\u001b[0m \u001b[0;32mNone\u001b[0m\u001b[0;34m:\u001b[0m\u001b[0;34m\u001b[0m\u001b[0;34m\u001b[0m\u001b[0m\n",
      "\u001b[0;31mAttributeError\u001b[0m: 'Series' object has no attribute 'read'"
     ]
    }
   ],
   "source": [
    "import json\n",
    "f = open('AACG_2000-06-01_2020-06-17')\n",
    "df = pd.DataFrame(json.load(f))\n",
    "df2 = pd.DataFrame()\n",
    "for i in range(168):\n",
    "    df2.append(json.load(df[:i]['results']))\n",
    "\n",
    "df2"
   ]
  },
  {
   "cell_type": "markdown",
   "id": "d2b29601",
   "metadata": {},
   "source": [
    "#### retrieve data for each Symbol since June 2020 and write to file. One line for each date."
   ]
  },
  {
   "cell_type": "code",
   "execution_count": 50,
   "id": "de78626f",
   "metadata": {},
   "outputs": [],
   "source": [
    "url_prefix = 'https://api.polygon.io/v2/aggs/ticker/'\n",
    "url_middle = '/range/1/day/'\n",
    "url_start_date = '2000-06-01'\n",
    "url_date_sep ='/'\n",
    "url_end_date = '2020-06-17'\n",
    "url_suffix = '?apiKey=Nq3dpLesjcUuxBDJiGBkhQSPQm2bnf99'\n",
    "\n",
    "for i in range(len(symbols.index)):\n",
    "    url=''\n",
    "    #print(symbols.loc[i]['Symbol'])\n",
    "    filename = symbols.loc[i]['Symbol']+'_'+url_start_date+'_'+url_end_date\n",
    "    url += url_prefix\n",
    "    url += symbols.loc[i]['Symbol']\n",
    "    url += url_middle\n",
    "    url += url_start_date+url_date_sep\n",
    "    url += url_end_date+url_suffix\n",
    "    \n",
    "    r = requests.get(url)  \n",
    "\n",
    "    with open(filename,'w') as fd:\n",
    "        fd.write(r.text)"
   ]
  },
  {
   "cell_type": "markdown",
   "id": "6a7ef600",
   "metadata": {},
   "source": [
    "#### move files to empty that returned no rows. data should have all files with data remaining"
   ]
  },
  {
   "cell_type": "code",
   "execution_count": 72,
   "id": "180fb91c",
   "metadata": {},
   "outputs": [],
   "source": [
    "import json\n",
    "import os\n",
    "import os\n",
    "import shutil\n",
    "\n",
    "#f = open('AACG_2000-06-01_2020-06-17')\n",
    "#df = pd.DataFrame(json.load(f))\n",
    "#df\n",
    "#df2 = pd.DataFrame()\n",
    "#for i in range(168):\n",
    "#    df2.append(json.load(df[:i]['results']))\n",
    "\n",
    "directory = r'.'\n",
    "#count of empty files\n",
    "empty_count = 0\n",
    "total_count = 0\n",
    "for entry in os.scandir(directory):\n",
    "    if (entry.path.endswith(\"_2000-06-01_2020-06-17\")):\n",
    "        f2 = open(entry)\n",
    "        data = json.load(f2)\n",
    "        total_count += 1\n",
    " #       print(\"Path : \"+entry.path +\" Count :\"+str(data['queryCount']))\n",
    "\n",
    "        if (data['queryCount'] == 0):\n",
    "            empty_count += 1\n",
    "           # shutil.move(entry.path, \"./empty/\")\n",
    "            os.remove(entry.path)\n",
    "            \n",
    "        f2.close()\n",
    "#print ('Empty: '+str(empty_count)+ ' Total: '+str(total_count)+\" Data files: \"+str(total_count - empty_count))\n",
    "\n",
    "#df2\n",
    "#for filepath in glob.iglob(r'.\\*_2000-06-01_2020-06-17'):\n",
    "#    print(filepath)\n",
    "#f2 = open('EJH_2000-06-01_2020-06-17')\n",
    "\n",
    "#data = json.load(f2)\n",
    "#print(data['queryCount'])"
   ]
  },
  {
   "cell_type": "markdown",
   "id": "456b11c6",
   "metadata": {},
   "source": [
    "#### get the data"
   ]
  },
  {
   "cell_type": "code",
   "execution_count": null,
   "id": "396f243a",
   "metadata": {},
   "outputs": [],
   "source": [
    "f2 = open('EGLE_2000-06-01_2020-06-17')\n",
    "data = json.load(f2)\n",
    "#print(data['results'])\n",
    "output = pd.DataFrame(data['results'])\n",
    "\n",
    "output"
   ]
  },
  {
   "cell_type": "code",
   "execution_count": 44,
   "id": "779d3442",
   "metadata": {},
   "outputs": [
    {
     "data": {
      "text/html": [
       "<div>\n",
       "<style scoped>\n",
       "    .dataframe tbody tr th:only-of-type {\n",
       "        vertical-align: middle;\n",
       "    }\n",
       "\n",
       "    .dataframe tbody tr th {\n",
       "        vertical-align: top;\n",
       "    }\n",
       "\n",
       "    .dataframe thead th {\n",
       "        text-align: right;\n",
       "    }\n",
       "</style>\n",
       "<table border=\"1\" class=\"dataframe\">\n",
       "  <thead>\n",
       "    <tr style=\"text-align: right;\">\n",
       "      <th></th>\n",
       "    </tr>\n",
       "  </thead>\n",
       "  <tbody>\n",
       "  </tbody>\n",
       "</table>\n",
       "</div>"
      ],
      "text/plain": [
       "Empty DataFrame\n",
       "Columns: []\n",
       "Index: []"
      ]
     },
     "execution_count": 44,
     "metadata": {},
     "output_type": "execute_result"
    }
   ],
   "source": [
    "import os\n",
    "import re\n",
    "\n",
    "count = 0\n",
    "directory= './data'\n",
    "\n",
    "for entry in [f for f in os.listdir(directory) if not f.startswith('.')]:\n",
    "#for entry in os.scandir(directory):\n",
    " #   print(entry)\n",
    "    output = pd.DataFrame()\n",
    "    sym = []\n",
    "    listOfSym = []\n",
    "    sym = re.split(\"_\", entry)\n",
    "\n",
    "    f = open(directory+'/'+entry)\n",
    "    data = json.load(f)        \n",
    "    df = pd.DataFrame(data['results'])\n",
    "    total_rows = len(df.index)\n",
    "  #  print (total_rows)\n",
    "#    listOfSym = [sym[0] for i in range(total_rows)]\n",
    "    for i in range(total_rows):\n",
    "        listOfSym.append(sym[0])\n",
    "    df['Sym'] = listOfSym\n",
    "#    df\n",
    "#    output = pd.concat([output,df])\n",
    "    df.to_csv('./csv/'+entry+'.csv')\n",
    "        \n",
    "output.head(20)\n",
    " \n"
   ]
  },
  {
   "cell_type": "code",
   "execution_count": 48,
   "id": "69427427",
   "metadata": {},
   "outputs": [
    {
     "name": "stdout",
     "output_type": "stream",
     "text": [
      "dt_object = 2020-01-02 00:00:00\n",
      "type(dt_object) = <class 'datetime.datetime'>\n"
     ]
    }
   ],
   "source": [
    "import datetime\n",
    "timestamp = 1577941200000\n",
    "dt_object = datetime.datetime.fromtimestamp(timestamp/1000.0)\n",
    "\n",
    "print(\"dt_object =\", dt_object)\n",
    "print(\"type(dt_object) =\", type(dt_object))"
   ]
  },
  {
   "cell_type": "code",
   "execution_count": 21,
   "id": "bd03d4b6",
   "metadata": {},
   "outputs": [
    {
     "name": "stdout",
     "output_type": "stream",
     "text": [
      "EGLE\n"
     ]
    }
   ],
   "source": [
    "import re\n",
    "sym = []\n",
    "fname = 'EGLE_2000-06-01_2020-06-17'\n",
    "sym = re.split(\"_\", fname)\n",
    "print(sym[0])"
   ]
  },
  {
   "cell_type": "code",
   "execution_count": null,
   "id": "8aabdcb9",
   "metadata": {},
   "outputs": [],
   "source": []
  },
  {
   "cell_type": "code",
   "execution_count": 8,
   "id": "f00c78f7",
   "metadata": {},
   "outputs": [
    {
     "ename": "FileNotFoundError",
     "evalue": "[Errno 2] No such file or directory: 'EGLE_2000-06-01_2020-06-17'",
     "output_type": "error",
     "traceback": [
      "\u001b[0;31m---------------------------------------------------------------------------\u001b[0m",
      "\u001b[0;31mFileNotFoundError\u001b[0m                         Traceback (most recent call last)",
      "\u001b[0;32m<ipython-input-8-ec462e5dc65a>\u001b[0m in \u001b[0;36m<module>\u001b[0;34m\u001b[0m\n\u001b[0;32m----> 1\u001b[0;31m \u001b[0mf1\u001b[0m \u001b[0;34m=\u001b[0m \u001b[0mopen\u001b[0m\u001b[0;34m(\u001b[0m\u001b[0;34m'EGLE_2000-06-01_2020-06-17'\u001b[0m\u001b[0;34m)\u001b[0m\u001b[0;34m\u001b[0m\u001b[0;34m\u001b[0m\u001b[0m\n\u001b[0m\u001b[1;32m      2\u001b[0m \u001b[0mdata\u001b[0m \u001b[0;34m=\u001b[0m \u001b[0mjson\u001b[0m\u001b[0;34m.\u001b[0m\u001b[0mload\u001b[0m\u001b[0;34m(\u001b[0m\u001b[0mf1\u001b[0m\u001b[0;34m)\u001b[0m\u001b[0;34m\u001b[0m\u001b[0;34m\u001b[0m\u001b[0m\n\u001b[1;32m      3\u001b[0m \u001b[0mdf1\u001b[0m \u001b[0;34m=\u001b[0m \u001b[0mpd\u001b[0m\u001b[0;34m.\u001b[0m\u001b[0mDataFrame\u001b[0m\u001b[0;34m(\u001b[0m\u001b[0mdata\u001b[0m\u001b[0;34m[\u001b[0m\u001b[0;34m'results'\u001b[0m\u001b[0;34m]\u001b[0m\u001b[0;34m)\u001b[0m\u001b[0;34m\u001b[0m\u001b[0;34m\u001b[0m\u001b[0m\n\u001b[1;32m      4\u001b[0m \u001b[0mdf1\u001b[0m\u001b[0;34m\u001b[0m\u001b[0;34m\u001b[0m\u001b[0m\n\u001b[1;32m      5\u001b[0m \u001b[0;34m\u001b[0m\u001b[0m\n",
      "\u001b[0;31mFileNotFoundError\u001b[0m: [Errno 2] No such file or directory: 'EGLE_2000-06-01_2020-06-17'"
     ]
    }
   ],
   "source": [
    "    f1 = open('EGLE_2000-06-01_2020-06-17')\n",
    "    data = json.load(f1)        \n",
    "    df1 = pd.DataFrame(data['results'])\n",
    "    df1\n",
    "    \n",
    "    f2 = open('EGRX_2000-06-01_2020-06-17')\n",
    "    data = json.load(f2)        \n",
    "    df2 = pd.DataFrame(data['results'])\n",
    "    df2\n",
    "    \n",
    "    f3 = open('EH_2000-06-01_2020-06-17')\n",
    "    data = json.load(f3)        \n",
    "    df3 = pd.DataFrame(data['results'])\n",
    "\n",
    "    output = pd.concat([df1, df2, df3])\n",
    "    output"
   ]
  },
  {
   "cell_type": "code",
   "execution_count": null,
   "id": "14255064",
   "metadata": {},
   "outputs": [],
   "source": [
    "type(f1)\n"
   ]
  },
  {
   "cell_type": "code",
   "execution_count": 24,
   "id": "b500601d",
   "metadata": {},
   "outputs": [
    {
     "data": {
      "text/plain": [
       "<Response [200]>"
      ]
     },
     "execution_count": 24,
     "metadata": {},
     "output_type": "execute_result"
    }
   ],
   "source": [
    "url = 'https://api.polygon.io/v2/aggs/ticker/AAPL/range/1/day/2000-06-01/2020-06-17?apiKey=Nq3dpLesjcUuxBDJiGBkhQSPQm2bnf99'\n",
    "import requests\n",
    "from requests.exceptions import HTTPError\n",
    "\n",
    "\n",
    "   response = requests.get(url)"
   ]
  },
  {
   "cell_type": "code",
   "execution_count": 25,
   "id": "c3e210da",
   "metadata": {},
   "outputs": [
    {
     "data": {
      "text/plain": [
       "<Response [200]>"
      ]
     },
     "execution_count": 25,
     "metadata": {},
     "output_type": "execute_result"
    }
   ],
   "source": [
    "response"
   ]
  },
  {
   "cell_type": "code",
   "execution_count": 26,
   "id": "69c89e66",
   "metadata": {},
   "outputs": [
    {
     "name": "stdout",
     "output_type": "stream",
     "text": [
      "<Response [200]>\n"
     ]
    }
   ],
   "source": [
    "print(response)"
   ]
  },
  {
   "cell_type": "code",
   "execution_count": null,
   "id": "4d45ad62",
   "metadata": {},
   "outputs": [],
   "source": []
  }
 ],
 "metadata": {
  "kernelspec": {
   "display_name": "Python 3",
   "language": "python",
   "name": "python3"
  },
  "language_info": {
   "codemirror_mode": {
    "name": "ipython",
    "version": 3
   },
   "file_extension": ".py",
   "mimetype": "text/x-python",
   "name": "python",
   "nbconvert_exporter": "python",
   "pygments_lexer": "ipython3",
   "version": "3.8.8"
  }
 },
 "nbformat": 4,
 "nbformat_minor": 5
}
